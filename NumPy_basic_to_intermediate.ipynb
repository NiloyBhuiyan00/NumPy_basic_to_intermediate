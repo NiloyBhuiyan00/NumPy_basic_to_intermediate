{
 "cells": [
  {
   "cell_type": "markdown",
   "id": "051cb86d-c39b-4ada-a790-297737d29b6c",
   "metadata": {},
   "source": [
    "# importing library"
   ]
  },
  {
   "cell_type": "code",
   "execution_count": 10,
   "id": "82e7e6a7-7245-480c-8f22-09c49618b8eb",
   "metadata": {},
   "outputs": [],
   "source": [
    "import numpy as np"
   ]
  },
  {
   "cell_type": "markdown",
   "id": "0a9b65b3-8c42-43e0-b66f-409079de7f41",
   "metadata": {},
   "source": [
    "# Array attributes"
   ]
  },
  {
   "cell_type": "code",
   "execution_count": 92,
   "id": "36615e2c-e024-4e00-a4a2-d9f0b6b4250b",
   "metadata": {},
   "outputs": [],
   "source": [
    "a= np.array([1,2,3,4,5]) # 1-D / vector"
   ]
  },
  {
   "cell_type": "code",
   "execution_count": 93,
   "id": "41fe7e4c-12c4-4312-84dc-71fe7845c6b5",
   "metadata": {},
   "outputs": [
    {
     "data": {
      "text/plain": [
       "array([1, 2, 3, 4, 5])"
      ]
     },
     "execution_count": 93,
     "metadata": {},
     "output_type": "execute_result"
    }
   ],
   "source": [
    "a"
   ]
  },
  {
   "cell_type": "code",
   "execution_count": 94,
   "id": "284e6230-2b9b-47fc-a779-123cb08ce3e2",
   "metadata": {},
   "outputs": [
    {
     "data": {
      "text/plain": [
       "numpy.ndarray"
      ]
     },
     "execution_count": 94,
     "metadata": {},
     "output_type": "execute_result"
    }
   ],
   "source": [
    "type(a)"
   ]
  },
  {
   "cell_type": "code",
   "execution_count": 95,
   "id": "6b591644-b143-4344-aaa9-3b38db9c930d",
   "metadata": {},
   "outputs": [
    {
     "data": {
      "text/plain": [
       "(5,)"
      ]
     },
     "execution_count": 95,
     "metadata": {},
     "output_type": "execute_result"
    }
   ],
   "source": [
    "a.shape"
   ]
  },
  {
   "cell_type": "code",
   "execution_count": 18,
   "id": "54167861-9217-475b-b4bb-3641acae5932",
   "metadata": {},
   "outputs": [
    {
     "data": {
      "text/plain": [
       "1"
      ]
     },
     "execution_count": 18,
     "metadata": {},
     "output_type": "execute_result"
    }
   ],
   "source": [
    "a.ndim\n"
   ]
  },
  {
   "cell_type": "code",
   "execution_count": 64,
   "id": "7a6f5793-cad3-41e8-8968-563906436f03",
   "metadata": {},
   "outputs": [],
   "source": [
    "b = np.array([[1,2,3,4], # 2-D / metrix\n",
    "              [2,4,6,8]])"
   ]
  },
  {
   "cell_type": "code",
   "execution_count": 20,
   "id": "960c3f5a-392f-42a7-93d1-f549fe212003",
   "metadata": {},
   "outputs": [
    {
     "data": {
      "text/plain": [
       "array([[1, 2, 3, 4],\n",
       "       [2, 4, 6, 8]])"
      ]
     },
     "execution_count": 20,
     "metadata": {},
     "output_type": "execute_result"
    }
   ],
   "source": [
    "b"
   ]
  },
  {
   "cell_type": "code",
   "execution_count": 21,
   "id": "06ff7de8-5a2f-4877-9c01-4ec602910f5e",
   "metadata": {},
   "outputs": [
    {
     "data": {
      "text/plain": [
       "numpy.ndarray"
      ]
     },
     "execution_count": 21,
     "metadata": {},
     "output_type": "execute_result"
    }
   ],
   "source": [
    "type(b)"
   ]
  },
  {
   "cell_type": "code",
   "execution_count": 22,
   "id": "01e5dd05-689e-4aa8-87d6-d12c7b13cf9f",
   "metadata": {},
   "outputs": [
    {
     "data": {
      "text/plain": [
       "(2, 4)"
      ]
     },
     "execution_count": 22,
     "metadata": {},
     "output_type": "execute_result"
    }
   ],
   "source": [
    "b.shape"
   ]
  },
  {
   "cell_type": "code",
   "execution_count": 23,
   "id": "a7ab8233-55bf-4fa8-bd3b-7f3e5d7254e7",
   "metadata": {},
   "outputs": [
    {
     "data": {
      "text/plain": [
       "2"
      ]
     },
     "execution_count": 23,
     "metadata": {},
     "output_type": "execute_result"
    }
   ],
   "source": [
    "b.ndim"
   ]
  },
  {
   "cell_type": "code",
   "execution_count": 38,
   "id": "a496348c-8284-4ff9-a4f1-0b958fef301b",
   "metadata": {},
   "outputs": [],
   "source": [
    "c = np.array([[[1.0,2,3],\n",
    "               [2,3,4],\n",
    "               [4,6,7]]])\n",
    "d= np.array([[[3,5,8],\n",
    "              [2,4,5],\n",
    "              [3,4,5]],\n",
    "             [[10,11,12],\n",
    "              [13,14,15],\n",
    "              [16,17,18]]])\n",
    "              "
   ]
  },
  {
   "cell_type": "code",
   "execution_count": 96,
   "id": "36174603-c2b0-4477-a058-a98f62345d58",
   "metadata": {},
   "outputs": [
    {
     "data": {
      "text/plain": [
       "(array([[[1., 2., 3.],\n",
       "         [2., 3., 4.],\n",
       "         [4., 6., 7.]]]),\n",
       " array([[[ 3,  5,  8],\n",
       "         [ 2,  4,  5],\n",
       "         [ 3,  4,  5]],\n",
       " \n",
       "        [[10, 11, 12],\n",
       "         [13, 14, 15],\n",
       "         [16, 17, 18]]]))"
      ]
     },
     "execution_count": 96,
     "metadata": {},
     "output_type": "execute_result"
    }
   ],
   "source": [
    "c , d"
   ]
  },
  {
   "cell_type": "code",
   "execution_count": 97,
   "id": "06fac005-0b9a-47be-a6c3-354a12f73b33",
   "metadata": {},
   "outputs": [
    {
     "data": {
      "text/plain": [
       "(numpy.ndarray, numpy.ndarray)"
      ]
     },
     "execution_count": 97,
     "metadata": {},
     "output_type": "execute_result"
    }
   ],
   "source": [
    "type(c), type(d)"
   ]
  },
  {
   "cell_type": "code",
   "execution_count": 98,
   "id": "d7dfa07a-c8f8-4734-bf57-479f529c78d8",
   "metadata": {},
   "outputs": [
    {
     "data": {
      "text/plain": [
       "((1, 3, 3), (2, 3, 3))"
      ]
     },
     "execution_count": 98,
     "metadata": {},
     "output_type": "execute_result"
    }
   ],
   "source": [
    "c.shape, d.shape"
   ]
  },
  {
   "cell_type": "code",
   "execution_count": 99,
   "id": "4a969625-490c-4bb0-8f44-97dc4273e752",
   "metadata": {},
   "outputs": [
    {
     "data": {
      "text/plain": [
       "(3, 3)"
      ]
     },
     "execution_count": 99,
     "metadata": {},
     "output_type": "execute_result"
    }
   ],
   "source": [
    "c.ndim, d.ndim"
   ]
  },
  {
   "cell_type": "code",
   "execution_count": 100,
   "id": "dbe50b51-ef16-47cd-9895-28b2af966c10",
   "metadata": {},
   "outputs": [
    {
     "data": {
      "text/plain": [
       "(dtype('int32'), dtype('int32'), dtype('float64'), dtype('int32'))"
      ]
     },
     "execution_count": 100,
     "metadata": {},
     "output_type": "execute_result"
    }
   ],
   "source": [
    "a.dtype, b.dtype, c.dtype, d.dtype"
   ]
  },
  {
   "cell_type": "code",
   "execution_count": 101,
   "id": "525fb6b0-7d3e-417b-bdf7-2703cf2e7669",
   "metadata": {},
   "outputs": [
    {
     "data": {
      "text/plain": [
       "(5, 8, 9, 18)"
      ]
     },
     "execution_count": 101,
     "metadata": {},
     "output_type": "execute_result"
    }
   ],
   "source": [
    "a.size,b.size,c.size,d.size # determine how many array elements are there an array."
   ]
  },
  {
   "cell_type": "code",
   "execution_count": 102,
   "id": "36694d73-5c28-46df-b44e-7291a4cd0202",
   "metadata": {},
   "outputs": [
    {
     "data": {
      "text/plain": [
       "(<memory at 0x000001DB939D9B40>,\n",
       " <memory at 0x000001DB9A9E9490>,\n",
       " <memory at 0x000001DB9A30E3E0>,\n",
       " <memory at 0x000001DB9AA14310>)"
      ]
     },
     "execution_count": 102,
     "metadata": {},
     "output_type": "execute_result"
    }
   ],
   "source": [
    "a.data, b.data, c.data, d.data"
   ]
  },
  {
   "cell_type": "code",
   "execution_count": 156,
   "id": "b1ff684a-4e53-41d3-b99c-474e88d93b7d",
   "metadata": {},
   "outputs": [
    {
     "data": {
      "text/plain": [
       "(20, 32, 72, 72)"
      ]
     },
     "execution_count": 156,
     "metadata": {},
     "output_type": "execute_result"
    }
   ],
   "source": [
    "a.nbytes,b.nbytes,c.nbytes,d.nbytes # total bytes consumed by the elements of an array."
   ]
  },
  {
   "cell_type": "markdown",
   "id": "042264a2-6fb2-4f1e-9ba5-ab88c86dd1c8",
   "metadata": {},
   "source": [
    "# Array creation"
   ]
  },
  {
   "cell_type": "code",
   "execution_count": 157,
   "id": "0e96b66f-8185-4302-ba7c-3c055b4c4c25",
   "metadata": {},
   "outputs": [],
   "source": [
    "array1 = np.array([1,2,3],dtype = 'int')"
   ]
  },
  {
   "cell_type": "code",
   "execution_count": 158,
   "id": "eeb54486-0fcb-4fe0-9035-7bc2219908a1",
   "metadata": {},
   "outputs": [
    {
     "data": {
      "text/plain": [
       "array([1, 2, 3])"
      ]
     },
     "execution_count": 158,
     "metadata": {},
     "output_type": "execute_result"
    }
   ],
   "source": [
    "array1"
   ]
  },
  {
   "cell_type": "code",
   "execution_count": 159,
   "id": "8e1d98ea-d979-4131-ab46-d52bae999f31",
   "metadata": {},
   "outputs": [],
   "source": [
    "zeros = np.zeros((3,3), dtype = 'float')"
   ]
  },
  {
   "cell_type": "code",
   "execution_count": 160,
   "id": "3777714d-9d11-4233-84c2-41ce9d7f33c8",
   "metadata": {},
   "outputs": [
    {
     "data": {
      "text/plain": [
       "array([[0., 0., 0.],\n",
       "       [0., 0., 0.],\n",
       "       [0., 0., 0.]])"
      ]
     },
     "execution_count": 160,
     "metadata": {},
     "output_type": "execute_result"
    }
   ],
   "source": [
    "zeros"
   ]
  },
  {
   "cell_type": "code",
   "execution_count": 161,
   "id": "f8b643e6-6f98-4115-85ae-27477edbb830",
   "metadata": {},
   "outputs": [],
   "source": [
    "ones = np.ones((3,3),dtype = 'int')"
   ]
  },
  {
   "cell_type": "code",
   "execution_count": 162,
   "id": "be8a9030-88ea-498f-a13c-c7f9a98431dc",
   "metadata": {},
   "outputs": [
    {
     "data": {
      "text/plain": [
       "array([[1, 1, 1],\n",
       "       [1, 1, 1],\n",
       "       [1, 1, 1]])"
      ]
     },
     "execution_count": 162,
     "metadata": {},
     "output_type": "execute_result"
    }
   ],
   "source": [
    "ones"
   ]
  },
  {
   "cell_type": "code",
   "execution_count": 163,
   "id": "62d53b6b-834f-466d-a38a-ccac5902c3f8",
   "metadata": {},
   "outputs": [],
   "source": [
    "full = np.full((2,3), 5)"
   ]
  },
  {
   "cell_type": "code",
   "execution_count": 164,
   "id": "80ef6d71-eed2-4c79-a340-3f4fbc677490",
   "metadata": {},
   "outputs": [
    {
     "data": {
      "text/plain": [
       "array([[5, 5, 5],\n",
       "       [5, 5, 5]])"
      ]
     },
     "execution_count": 164,
     "metadata": {},
     "output_type": "execute_result"
    }
   ],
   "source": [
    "full"
   ]
  },
  {
   "cell_type": "code",
   "execution_count": 165,
   "id": "2a9d6e2f-2b88-4dec-ae1d-f60f29975671",
   "metadata": {},
   "outputs": [],
   "source": [
    "identity = np.identity(3, dtype = 'int')"
   ]
  },
  {
   "cell_type": "code",
   "execution_count": 166,
   "id": "dff68c39-5aae-4c1b-b352-8535709c1340",
   "metadata": {},
   "outputs": [
    {
     "data": {
      "text/plain": [
       "array([[1, 0, 0],\n",
       "       [0, 1, 0],\n",
       "       [0, 0, 1]])"
      ]
     },
     "execution_count": 166,
     "metadata": {},
     "output_type": "execute_result"
    }
   ],
   "source": [
    "identity"
   ]
  },
  {
   "cell_type": "code",
   "execution_count": 167,
   "id": "7617149e-88be-4935-abce-0e55e651fedd",
   "metadata": {},
   "outputs": [],
   "source": [
    "eye = np.eye(3,3, -1)"
   ]
  },
  {
   "cell_type": "code",
   "execution_count": 168,
   "id": "9585f050-f986-4104-854e-dda1c5eda5b3",
   "metadata": {},
   "outputs": [
    {
     "data": {
      "text/plain": [
       "array([[0., 0., 0.],\n",
       "       [1., 0., 0.],\n",
       "       [0., 1., 0.]])"
      ]
     },
     "execution_count": 168,
     "metadata": {},
     "output_type": "execute_result"
    }
   ],
   "source": [
    "eye"
   ]
  },
  {
   "cell_type": "code",
   "execution_count": 169,
   "id": "f0ed42cd-3cea-4ebd-8eec-56c7378a654a",
   "metadata": {},
   "outputs": [],
   "source": [
    "arange = np.arange(1, 10,2)"
   ]
  },
  {
   "cell_type": "code",
   "execution_count": 170,
   "id": "96b17f07-c6c1-40a4-9623-fe260bdbfcc5",
   "metadata": {},
   "outputs": [
    {
     "data": {
      "text/plain": [
       "array([1, 3, 5, 7, 9])"
      ]
     },
     "execution_count": 170,
     "metadata": {},
     "output_type": "execute_result"
    }
   ],
   "source": [
    "arange"
   ]
  },
  {
   "cell_type": "code",
   "execution_count": 171,
   "id": "7eecd160-7fc7-404d-9c21-3cac03e61e90",
   "metadata": {},
   "outputs": [],
   "source": [
    "linspace = np.linspace(1,100,50, dtype  = 'int')"
   ]
  },
  {
   "cell_type": "code",
   "execution_count": 172,
   "id": "2fc1d454-4e0d-4008-8eb3-f20afb30a6b6",
   "metadata": {},
   "outputs": [
    {
     "data": {
      "text/plain": [
       "array([  1,   3,   5,   7,   9,  11,  13,  15,  17,  19,  21,  23,  25,\n",
       "        27,  29,  31,  33,  35,  37,  39,  41,  43,  45,  47,  49,  51,\n",
       "        53,  55,  57,  59,  61,  63,  65,  67,  69,  71,  73,  75,  77,\n",
       "        79,  81,  83,  85,  87,  89,  91,  93,  95,  97, 100])"
      ]
     },
     "execution_count": 172,
     "metadata": {},
     "output_type": "execute_result"
    }
   ],
   "source": [
    "linspace"
   ]
  },
  {
   "cell_type": "code",
   "execution_count": 173,
   "id": "42053d88-c9e3-4982-89dd-0e04c3f0e687",
   "metadata": {},
   "outputs": [
    {
     "data": {
      "text/plain": [
       "50"
      ]
     },
     "execution_count": 173,
     "metadata": {},
     "output_type": "execute_result"
    }
   ],
   "source": [
    "linspace.size"
   ]
  },
  {
   "cell_type": "code",
   "execution_count": 174,
   "id": "f19eb97e-7381-404c-a85d-06a234c8b3cf",
   "metadata": {},
   "outputs": [],
   "source": [
    "empty  = np.empty((1,5))"
   ]
  },
  {
   "cell_type": "code",
   "execution_count": 175,
   "id": "228ad363-be0a-4a2d-95ec-803786b78e4b",
   "metadata": {},
   "outputs": [
    {
     "data": {
      "text/plain": [
       "array([[0., 1., 2., 3., 4.]])"
      ]
     },
     "execution_count": 175,
     "metadata": {},
     "output_type": "execute_result"
    }
   ],
   "source": [
    "empty"
   ]
  },
  {
   "cell_type": "code",
   "execution_count": 176,
   "id": "19ad0c3a-abf8-43eb-81f8-572a6552ee1f",
   "metadata": {},
   "outputs": [
    {
     "data": {
      "text/plain": [
       "array([[0., 1., 2., 3., 4.]])"
      ]
     },
     "execution_count": 176,
     "metadata": {},
     "output_type": "execute_result"
    }
   ],
   "source": [
    "for i in range(5):\n",
    "    empty[:,i] = i\n",
    "empty"
   ]
  },
  {
   "cell_type": "markdown",
   "id": "68217ca3-3dba-406c-90b8-c8c7ace43f2b",
   "metadata": {},
   "source": [
    "# Array indexing slicing"
   ]
  },
  {
   "cell_type": "markdown",
   "id": "17627b2d-01dc-4413-b955-c0fef9406d7d",
   "metadata": {},
   "source": [
    "# Indexing "
   ]
  },
  {
   "cell_type": "code",
   "execution_count": 177,
   "id": "437c941a-0265-4a3d-8912-bc3af84135fc",
   "metadata": {},
   "outputs": [],
   "source": [
    "arr1 = np.array([1,2,3,4,5])"
   ]
  },
  {
   "cell_type": "code",
   "execution_count": 178,
   "id": "693ec77e-9587-4267-b972-3b0de5078622",
   "metadata": {},
   "outputs": [
    {
     "name": "stdout",
     "output_type": "stream",
     "text": [
      "[1 2 3 4 5]\n"
     ]
    }
   ],
   "source": [
    "print(arr1)"
   ]
  },
  {
   "cell_type": "code",
   "execution_count": 179,
   "id": "6f45c874-af8b-41a2-984d-6b7bd2cb757b",
   "metadata": {},
   "outputs": [
    {
     "data": {
      "text/plain": [
       "1"
      ]
     },
     "execution_count": 179,
     "metadata": {},
     "output_type": "execute_result"
    }
   ],
   "source": [
    "arr1[0]"
   ]
  },
  {
   "cell_type": "code",
   "execution_count": 180,
   "id": "88bf05da-b59c-4d35-85a2-ea003a30f7d7",
   "metadata": {},
   "outputs": [
    {
     "data": {
      "text/plain": [
       "4"
      ]
     },
     "execution_count": 180,
     "metadata": {},
     "output_type": "execute_result"
    }
   ],
   "source": [
    "arr1[3]"
   ]
  },
  {
   "cell_type": "code",
   "execution_count": 181,
   "id": "79b47ccd-e152-482e-8eae-b3953f20eea9",
   "metadata": {},
   "outputs": [
    {
     "data": {
      "text/plain": [
       "5"
      ]
     },
     "execution_count": 181,
     "metadata": {},
     "output_type": "execute_result"
    }
   ],
   "source": [
    "arr1[-1]"
   ]
  },
  {
   "cell_type": "code",
   "execution_count": 182,
   "id": "5b9621bf-552f-4d00-89e8-13861452fee8",
   "metadata": {},
   "outputs": [
    {
     "data": {
      "text/plain": [
       "3"
      ]
     },
     "execution_count": 182,
     "metadata": {},
     "output_type": "execute_result"
    }
   ],
   "source": [
    "arr1[-3]"
   ]
  },
  {
   "cell_type": "code",
   "execution_count": 187,
   "id": "2067b496-ee33-4986-b97d-c65e1fc887d9",
   "metadata": {},
   "outputs": [],
   "source": [
    "arr2 = np.random.randint(1,10,size =(3,3))"
   ]
  },
  {
   "cell_type": "code",
   "execution_count": 188,
   "id": "ca8ea5f1-bc99-443c-9f5d-7496b7708f80",
   "metadata": {},
   "outputs": [
    {
     "data": {
      "text/plain": [
       "array([[6, 2, 8],\n",
       "       [9, 7, 6],\n",
       "       [7, 4, 5]])"
      ]
     },
     "execution_count": 188,
     "metadata": {},
     "output_type": "execute_result"
    }
   ],
   "source": [
    "arr2"
   ]
  },
  {
   "cell_type": "code",
   "execution_count": 189,
   "id": "cbb9ef63-e108-43ee-800c-80ce07ef2545",
   "metadata": {},
   "outputs": [
    {
     "data": {
      "text/plain": [
       "6"
      ]
     },
     "execution_count": 189,
     "metadata": {},
     "output_type": "execute_result"
    }
   ],
   "source": [
    "arr2[0][0]"
   ]
  },
  {
   "cell_type": "code",
   "execution_count": 192,
   "id": "416937cd-9038-4ebb-b2f2-29b3fe8598fe",
   "metadata": {},
   "outputs": [
    {
     "data": {
      "text/plain": [
       "2"
      ]
     },
     "execution_count": 192,
     "metadata": {},
     "output_type": "execute_result"
    }
   ],
   "source": [
    "arr2[0][1]"
   ]
  },
  {
   "cell_type": "code",
   "execution_count": 194,
   "id": "3b65dc2f-9131-426d-a9f3-7ed3f4d3fb99",
   "metadata": {},
   "outputs": [
    {
     "data": {
      "text/plain": [
       "7"
      ]
     },
     "execution_count": 194,
     "metadata": {},
     "output_type": "execute_result"
    }
   ],
   "source": [
    "arr2[1][1]"
   ]
  },
  {
   "cell_type": "code",
   "execution_count": 195,
   "id": "73afbc98-ad01-4d20-9d5d-21ec8e112787",
   "metadata": {},
   "outputs": [
    {
     "data": {
      "text/plain": [
       "9"
      ]
     },
     "execution_count": 195,
     "metadata": {},
     "output_type": "execute_result"
    }
   ],
   "source": [
    "arr2[1][0]"
   ]
  },
  {
   "cell_type": "code",
   "execution_count": 196,
   "id": "4d6f0409-8284-488a-ac23-d80cfe10e84d",
   "metadata": {},
   "outputs": [
    {
     "data": {
      "text/plain": [
       "2"
      ]
     },
     "execution_count": 196,
     "metadata": {},
     "output_type": "execute_result"
    }
   ],
   "source": [
    "arr2[0,1]"
   ]
  },
  {
   "cell_type": "code",
   "execution_count": 197,
   "id": "c07456a2-c81f-40b1-b0ce-85dbe3166a93",
   "metadata": {},
   "outputs": [
    {
     "data": {
      "text/plain": [
       "9"
      ]
     },
     "execution_count": 197,
     "metadata": {},
     "output_type": "execute_result"
    }
   ],
   "source": [
    "arr2[1,0]"
   ]
  },
  {
   "cell_type": "code",
   "execution_count": 198,
   "id": "2b151e0d-7573-4b08-acce-c6dbe22eff48",
   "metadata": {},
   "outputs": [],
   "source": [
    "arr3 = np.random.randint(1,10, size =(2,3,3))"
   ]
  },
  {
   "cell_type": "code",
   "execution_count": 199,
   "id": "c8fccb8f-44d9-47af-a821-2a67f4717399",
   "metadata": {},
   "outputs": [
    {
     "data": {
      "text/plain": [
       "array([[[5, 6, 6],\n",
       "        [1, 7, 6],\n",
       "        [1, 4, 1]],\n",
       "\n",
       "       [[9, 6, 8],\n",
       "        [3, 2, 4],\n",
       "        [4, 7, 6]]])"
      ]
     },
     "execution_count": 199,
     "metadata": {},
     "output_type": "execute_result"
    }
   ],
   "source": [
    "arr3"
   ]
  },
  {
   "cell_type": "code",
   "execution_count": 200,
   "id": "becf37b5-6ccf-44e9-81e9-d09938b56f7e",
   "metadata": {},
   "outputs": [
    {
     "data": {
      "text/plain": [
       "5"
      ]
     },
     "execution_count": 200,
     "metadata": {},
     "output_type": "execute_result"
    }
   ],
   "source": [
    "arr3[0][0][0]"
   ]
  },
  {
   "cell_type": "code",
   "execution_count": 202,
   "id": "70356351-8152-4a66-a16b-f01cc9df711e",
   "metadata": {},
   "outputs": [
    {
     "data": {
      "text/plain": [
       "9"
      ]
     },
     "execution_count": 202,
     "metadata": {},
     "output_type": "execute_result"
    }
   ],
   "source": [
    "arr3[1][0][0]"
   ]
  },
  {
   "cell_type": "code",
   "execution_count": 203,
   "id": "cf61cbb0-1c30-43a4-abaa-882311c82880",
   "metadata": {},
   "outputs": [
    {
     "data": {
      "text/plain": [
       "7"
      ]
     },
     "execution_count": 203,
     "metadata": {},
     "output_type": "execute_result"
    }
   ],
   "source": [
    "arr3[1,2,1]"
   ]
  },
  {
   "cell_type": "markdown",
   "id": "19468277-f6f9-4ee1-9b95-be6aa654f4e7",
   "metadata": {},
   "source": [
    "# Slicing"
   ]
  },
  {
   "cell_type": "code",
   "execution_count": 204,
   "id": "620a7079-bde1-4041-acf9-ab0cb580d271",
   "metadata": {},
   "outputs": [
    {
     "name": "stdout",
     "output_type": "stream",
     "text": [
      "[1 2 3 4 5]\n"
     ]
    }
   ],
   "source": [
    "print(arr1)"
   ]
  },
  {
   "cell_type": "code",
   "execution_count": 207,
   "id": "19281ac9-a5b7-4d5a-b4e1-c6cb6f001f4f",
   "metadata": {},
   "outputs": [
    {
     "name": "stdout",
     "output_type": "stream",
     "text": [
      "[1 2 3]\n"
     ]
    }
   ],
   "source": [
    "print(arr1[0:3])"
   ]
  },
  {
   "cell_type": "code",
   "execution_count": 209,
   "id": "22e12eb8-51fb-43e4-a8e1-3dfdaf8c4cad",
   "metadata": {},
   "outputs": [
    {
     "name": "stdout",
     "output_type": "stream",
     "text": [
      "[3 4 5]\n"
     ]
    }
   ],
   "source": [
    "print(arr1[2:])"
   ]
  },
  {
   "cell_type": "code",
   "execution_count": 210,
   "id": "60030ce4-b202-4d40-9474-c062d928bbf8",
   "metadata": {},
   "outputs": [
    {
     "data": {
      "text/plain": [
       "array([[6, 2, 8],\n",
       "       [9, 7, 6],\n",
       "       [7, 4, 5]])"
      ]
     },
     "execution_count": 210,
     "metadata": {},
     "output_type": "execute_result"
    }
   ],
   "source": [
    "arr2"
   ]
  },
  {
   "cell_type": "code",
   "execution_count": 212,
   "id": "6f5fce76-935c-439c-94ab-6c6eaef83fd4",
   "metadata": {},
   "outputs": [
    {
     "name": "stdout",
     "output_type": "stream",
     "text": [
      "[[6 2]\n",
      " [9 7]]\n"
     ]
    }
   ],
   "source": [
    "print(arr2[0:2,0:2])"
   ]
  },
  {
   "cell_type": "code",
   "execution_count": 214,
   "id": "d79ca71d-804f-456f-8738-9d24586325a0",
   "metadata": {},
   "outputs": [
    {
     "name": "stdout",
     "output_type": "stream",
     "text": [
      "[[7 6]\n",
      " [4 5]]\n"
     ]
    }
   ],
   "source": [
    "print(arr2[1:, 1:])"
   ]
  },
  {
   "cell_type": "markdown",
   "id": "deb067fc-409f-4ddc-afe7-a001d38c51f9",
   "metadata": {},
   "source": [
    "# Manupilating array shapes\n",
    "1. reshape()\n",
    "2. resize()\n",
    "3. ravel()\n",
    "4. flatten()\n",
    "5. defining array shape"
   ]
  },
  {
   "cell_type": "markdown",
   "id": "cfc1d517-a3f7-4c17-bc57-e0f30db65889",
   "metadata": {},
   "source": [
    "### reshape()"
   ]
  },
  {
   "cell_type": "code",
   "execution_count": 255,
   "id": "980e1186-af97-4219-a10b-8c2beecd4fe9",
   "metadata": {},
   "outputs": [],
   "source": [
    "a = np.array([[1,2,3],\n",
    "              [4,5,6]])"
   ]
  },
  {
   "cell_type": "code",
   "execution_count": 256,
   "id": "71b59f14-fefc-4350-8c0a-b449db6a58ab",
   "metadata": {},
   "outputs": [
    {
     "data": {
      "text/plain": [
       "array([[1, 2, 3],\n",
       "       [4, 5, 6]])"
      ]
     },
     "execution_count": 256,
     "metadata": {},
     "output_type": "execute_result"
    }
   ],
   "source": [
    "a"
   ]
  },
  {
   "cell_type": "code",
   "execution_count": 257,
   "id": "e1f43e2d-2662-4e63-9f5b-e1bc5fe8c065",
   "metadata": {},
   "outputs": [
    {
     "data": {
      "text/plain": [
       "(2, 3)"
      ]
     },
     "execution_count": 257,
     "metadata": {},
     "output_type": "execute_result"
    }
   ],
   "source": [
    "a.shape"
   ]
  },
  {
   "cell_type": "code",
   "execution_count": 258,
   "id": "a6927f2d-24a4-4bf5-8436-84eb9694ddcb",
   "metadata": {},
   "outputs": [],
   "source": [
    "a_reshaped = np.reshape(a,(3,2))"
   ]
  },
  {
   "cell_type": "code",
   "execution_count": 259,
   "id": "72d1e364-7017-4616-9849-2d7ad52b92b5",
   "metadata": {},
   "outputs": [
    {
     "data": {
      "text/plain": [
       "array([[1, 2],\n",
       "       [3, 4],\n",
       "       [5, 6]])"
      ]
     },
     "execution_count": 259,
     "metadata": {},
     "output_type": "execute_result"
    }
   ],
   "source": [
    "a_reshaped"
   ]
  },
  {
   "cell_type": "code",
   "execution_count": 260,
   "id": "c07b780e-770c-46ff-ab85-0eb3aa208a15",
   "metadata": {},
   "outputs": [
    {
     "data": {
      "text/plain": [
       "(3, 2)"
      ]
     },
     "execution_count": 260,
     "metadata": {},
     "output_type": "execute_result"
    }
   ],
   "source": [
    "a_reshaped.shape"
   ]
  },
  {
   "cell_type": "markdown",
   "id": "f863e142-87a4-4438-9501-4e061c6485fe",
   "metadata": {},
   "source": [
    "### resize()"
   ]
  },
  {
   "cell_type": "code",
   "execution_count": 261,
   "id": "b88ab54e-62e8-4003-aa19-4f9d725f2293",
   "metadata": {},
   "outputs": [
    {
     "data": {
      "text/plain": [
       "array([[1, 2, 3],\n",
       "       [4, 5, 6]])"
      ]
     },
     "execution_count": 261,
     "metadata": {},
     "output_type": "execute_result"
    }
   ],
   "source": [
    "a"
   ]
  },
  {
   "cell_type": "code",
   "execution_count": 262,
   "id": "8c4b792a-fcfc-4b5c-8611-ab86b7a0231d",
   "metadata": {},
   "outputs": [],
   "source": [
    "a_resized = np.resize(a, (3,3))"
   ]
  },
  {
   "cell_type": "code",
   "execution_count": 263,
   "id": "61056b03-4828-4101-b135-261da2289870",
   "metadata": {},
   "outputs": [
    {
     "data": {
      "text/plain": [
       "array([[1, 2, 3],\n",
       "       [4, 5, 6],\n",
       "       [1, 2, 3]])"
      ]
     },
     "execution_count": 263,
     "metadata": {},
     "output_type": "execute_result"
    }
   ],
   "source": [
    "a_resized"
   ]
  },
  {
   "cell_type": "code",
   "execution_count": 264,
   "id": "c32424a8-d541-439d-a4b3-f36082ba145d",
   "metadata": {},
   "outputs": [],
   "source": [
    "a_resized2 = np.resize(a, (3,2))"
   ]
  },
  {
   "cell_type": "code",
   "execution_count": 265,
   "id": "7a2ab1d8-1b31-498b-9356-a1ecd8d3fce2",
   "metadata": {},
   "outputs": [
    {
     "data": {
      "text/plain": [
       "array([[1, 2],\n",
       "       [3, 4],\n",
       "       [5, 6]])"
      ]
     },
     "execution_count": 265,
     "metadata": {},
     "output_type": "execute_result"
    }
   ],
   "source": [
    "a_resized2"
   ]
  },
  {
   "cell_type": "markdown",
   "id": "142df317-d07d-4458-a5e8-55688053310e",
   "metadata": {},
   "source": [
    "### ravel()"
   ]
  },
  {
   "cell_type": "code",
   "execution_count": 281,
   "id": "0f6c4bb5-f789-4b83-ac1e-a67f52e21411",
   "metadata": {},
   "outputs": [],
   "source": [
    "a = np.random.randint(1,10,(2,3))"
   ]
  },
  {
   "cell_type": "code",
   "execution_count": 282,
   "id": "798c8c21-e416-4e69-8a18-50064a24bfd8",
   "metadata": {},
   "outputs": [
    {
     "data": {
      "text/plain": [
       "array([[8, 7, 7],\n",
       "       [8, 9, 5]])"
      ]
     },
     "execution_count": 282,
     "metadata": {},
     "output_type": "execute_result"
    }
   ],
   "source": [
    "a"
   ]
  },
  {
   "cell_type": "code",
   "execution_count": 298,
   "id": "734dfbf3-0bf8-4f7c-87d5-c844b8ff950b",
   "metadata": {},
   "outputs": [],
   "source": [
    "a_raveled = np.ravel(a) # return a view of the array."
   ]
  },
  {
   "cell_type": "code",
   "execution_count": 299,
   "id": "1fac1701-d9be-447c-a64a-5f753ce60799",
   "metadata": {},
   "outputs": [
    {
     "data": {
      "text/plain": [
       "array([0, 7, 7, 8, 9, 5])"
      ]
     },
     "execution_count": 299,
     "metadata": {},
     "output_type": "execute_result"
    }
   ],
   "source": [
    "a_raveled"
   ]
  },
  {
   "cell_type": "code",
   "execution_count": 300,
   "id": "f3fa946e-95a0-42b5-8efb-c64e6a506fb1",
   "metadata": {},
   "outputs": [
    {
     "data": {
      "text/plain": [
       "(6,)"
      ]
     },
     "execution_count": 300,
     "metadata": {},
     "output_type": "execute_result"
    }
   ],
   "source": [
    "a_raveled.shape"
   ]
  },
  {
   "cell_type": "code",
   "execution_count": 301,
   "id": "5714ab85-63ca-40cf-89a1-ce83ae6ae316",
   "metadata": {},
   "outputs": [],
   "source": [
    "a_raveled[0] = 0"
   ]
  },
  {
   "cell_type": "code",
   "execution_count": 302,
   "id": "2f090f5e-4f6a-4cf1-8f5f-1c54c5089fec",
   "metadata": {},
   "outputs": [
    {
     "data": {
      "text/plain": [
       "array([0, 7, 7, 8, 9, 5])"
      ]
     },
     "execution_count": 302,
     "metadata": {},
     "output_type": "execute_result"
    }
   ],
   "source": [
    "a_raveled"
   ]
  },
  {
   "cell_type": "code",
   "execution_count": 303,
   "id": "a006d672-79c4-4fef-876a-29e961c32860",
   "metadata": {},
   "outputs": [
    {
     "data": {
      "text/plain": [
       "array([[0, 7, 7],\n",
       "       [8, 9, 5]])"
      ]
     },
     "execution_count": 303,
     "metadata": {},
     "output_type": "execute_result"
    }
   ],
   "source": [
    "a"
   ]
  },
  {
   "cell_type": "markdown",
   "id": "4674fb02-6c95-4209-9497-126d9387bafa",
   "metadata": {},
   "source": [
    "### flatten()"
   ]
  },
  {
   "cell_type": "code",
   "execution_count": 304,
   "id": "a9e26ac7-fc5e-4385-8b4f-8cabbbb7349d",
   "metadata": {},
   "outputs": [
    {
     "data": {
      "text/plain": [
       "array([[0, 7, 7],\n",
       "       [8, 9, 5]])"
      ]
     },
     "execution_count": 304,
     "metadata": {},
     "output_type": "execute_result"
    }
   ],
   "source": [
    "a"
   ]
  },
  {
   "cell_type": "code",
   "execution_count": 315,
   "id": "126c9f7e-41d4-4939-9a01-ea510bfd6f97",
   "metadata": {},
   "outputs": [],
   "source": [
    "a_flattened = a.flatten() # return a copy of the array, always allocates a new memory."
   ]
  },
  {
   "cell_type": "code",
   "execution_count": 316,
   "id": "f507cd97-feb2-40ec-9c03-1625db2c6bea",
   "metadata": {},
   "outputs": [
    {
     "data": {
      "text/plain": [
       "array([0, 7, 7, 8, 9, 5])"
      ]
     },
     "execution_count": 316,
     "metadata": {},
     "output_type": "execute_result"
    }
   ],
   "source": [
    "a_flattened"
   ]
  },
  {
   "cell_type": "code",
   "execution_count": 317,
   "id": "265728e6-2e46-4741-914a-530e325d68b6",
   "metadata": {},
   "outputs": [],
   "source": [
    "a_flattened[0] = 100"
   ]
  },
  {
   "cell_type": "code",
   "execution_count": 318,
   "id": "018e3e9a-f9d8-48f5-b21c-f4e706efdf1e",
   "metadata": {},
   "outputs": [
    {
     "data": {
      "text/plain": [
       "array([100,   7,   7,   8,   9,   5])"
      ]
     },
     "execution_count": 318,
     "metadata": {},
     "output_type": "execute_result"
    }
   ],
   "source": [
    "a_flattened"
   ]
  },
  {
   "cell_type": "code",
   "execution_count": 319,
   "id": "81a4cebe-db82-4b33-a9c0-ed601bcce01e",
   "metadata": {},
   "outputs": [
    {
     "data": {
      "text/plain": [
       "array([[0, 7, 7],\n",
       "       [8, 9, 5]])"
      ]
     },
     "execution_count": 319,
     "metadata": {},
     "output_type": "execute_result"
    }
   ],
   "source": [
    "a"
   ]
  },
  {
   "cell_type": "markdown",
   "id": "69a36b01-dd19-43db-bbaf-3e103619f5c9",
   "metadata": {},
   "source": [
    "### defining an array shape"
   ]
  },
  {
   "cell_type": "code",
   "execution_count": 320,
   "id": "185a5907-fe7d-45d8-a77a-b2b8968ff64d",
   "metadata": {},
   "outputs": [
    {
     "data": {
      "text/plain": [
       "array([[0, 7, 7],\n",
       "       [8, 9, 5]])"
      ]
     },
     "execution_count": 320,
     "metadata": {},
     "output_type": "execute_result"
    }
   ],
   "source": [
    "a"
   ]
  },
  {
   "cell_type": "code",
   "execution_count": 322,
   "id": "da2689d5-04e3-4c7f-a1e2-786267e42161",
   "metadata": {},
   "outputs": [],
   "source": [
    "a.shape = (3,2)"
   ]
  },
  {
   "cell_type": "code",
   "execution_count": 323,
   "id": "a9c0aefb-2389-4c8a-a6c8-c7695ce8f194",
   "metadata": {},
   "outputs": [
    {
     "data": {
      "text/plain": [
       "array([[0, 7],\n",
       "       [7, 8],\n",
       "       [9, 5]])"
      ]
     },
     "execution_count": 323,
     "metadata": {},
     "output_type": "execute_result"
    }
   ],
   "source": [
    "a"
   ]
  },
  {
   "cell_type": "markdown",
   "id": "309d26b8-e22b-41be-a34e-e671305d9e9b",
   "metadata": {},
   "source": [
    "# Array stacking"
   ]
  },
  {
   "cell_type": "code",
   "execution_count": null,
   "id": "df1bda6a-d161-4729-be5f-f32264e16daf",
   "metadata": {},
   "outputs": [],
   "source": []
  },
  {
   "cell_type": "markdown",
   "id": "630d9a49-a066-4d30-99af-7f5ffb531d32",
   "metadata": {},
   "source": [
    "### horizontal stacking"
   ]
  },
  {
   "cell_type": "code",
   "execution_count": 338,
   "id": "14ab2f49-42f1-495b-a0c5-14c4edeaa8e3",
   "metadata": {},
   "outputs": [],
   "source": [
    "a = np.arange(1,10).reshape(3,3)"
   ]
  },
  {
   "cell_type": "code",
   "execution_count": 339,
   "id": "deafbb0c-9198-42b6-ab19-f283791ada05",
   "metadata": {},
   "outputs": [
    {
     "data": {
      "text/plain": [
       "array([[1, 2, 3],\n",
       "       [4, 5, 6],\n",
       "       [7, 8, 9]])"
      ]
     },
     "execution_count": 339,
     "metadata": {},
     "output_type": "execute_result"
    }
   ],
   "source": [
    "a"
   ]
  },
  {
   "cell_type": "code",
   "execution_count": 340,
   "id": "f2a53776-e176-4d97-b488-448c96b159ee",
   "metadata": {},
   "outputs": [],
   "source": [
    "b = 2*a"
   ]
  },
  {
   "cell_type": "code",
   "execution_count": 341,
   "id": "83b42bd5-252f-40cd-a392-5aa7cdf089cf",
   "metadata": {},
   "outputs": [
    {
     "data": {
      "text/plain": [
       "array([[ 2,  4,  6],\n",
       "       [ 8, 10, 12],\n",
       "       [14, 16, 18]])"
      ]
     },
     "execution_count": 341,
     "metadata": {},
     "output_type": "execute_result"
    }
   ],
   "source": [
    "b"
   ]
  },
  {
   "cell_type": "code",
   "execution_count": 342,
   "id": "82c57542-8c1b-4830-834a-69e793a265df",
   "metadata": {},
   "outputs": [
    {
     "data": {
      "text/plain": [
       "array([[ 1,  2,  3,  2,  4,  6],\n",
       "       [ 4,  5,  6,  8, 10, 12],\n",
       "       [ 7,  8,  9, 14, 16, 18]])"
      ]
     },
     "execution_count": 342,
     "metadata": {},
     "output_type": "execute_result"
    }
   ],
   "source": [
    "np.hstack((a,b))"
   ]
  },
  {
   "cell_type": "code",
   "execution_count": 343,
   "id": "ab86b258-0c6c-4dc4-83f0-6e4519939c63",
   "metadata": {},
   "outputs": [
    {
     "data": {
      "text/plain": [
       "array([[ 1,  2,  3,  2,  4,  6],\n",
       "       [ 4,  5,  6,  8, 10, 12],\n",
       "       [ 7,  8,  9, 14, 16, 18]])"
      ]
     },
     "execution_count": 343,
     "metadata": {},
     "output_type": "execute_result"
    }
   ],
   "source": [
    "np.column_stack((a,b))"
   ]
  },
  {
   "cell_type": "code",
   "execution_count": 344,
   "id": "1d16b0d0-e2a8-493e-a854-b6a08949be5b",
   "metadata": {},
   "outputs": [
    {
     "data": {
      "text/plain": [
       "array([[ 1,  2,  3,  2,  4,  6],\n",
       "       [ 4,  5,  6,  8, 10, 12],\n",
       "       [ 7,  8,  9, 14, 16, 18]])"
      ]
     },
     "execution_count": 344,
     "metadata": {},
     "output_type": "execute_result"
    }
   ],
   "source": [
    "np.concatenate((a,b), axis = 1)"
   ]
  },
  {
   "cell_type": "markdown",
   "id": "0774d78c-1741-4fd4-b0a4-0e50f4da751a",
   "metadata": {},
   "source": [
    "### vertical stacking"
   ]
  },
  {
   "cell_type": "code",
   "execution_count": 346,
   "id": "86ebb087-d9a2-4b3f-ba65-3590bfa889b5",
   "metadata": {},
   "outputs": [
    {
     "data": {
      "text/plain": [
       "array([[ 1,  2,  3],\n",
       "       [ 4,  5,  6],\n",
       "       [ 7,  8,  9],\n",
       "       [ 2,  4,  6],\n",
       "       [ 8, 10, 12],\n",
       "       [14, 16, 18]])"
      ]
     },
     "execution_count": 346,
     "metadata": {},
     "output_type": "execute_result"
    }
   ],
   "source": [
    "np.vstack((a,b))"
   ]
  },
  {
   "cell_type": "code",
   "execution_count": 347,
   "id": "765d1adf-0035-401f-a116-f2c0a22d240f",
   "metadata": {},
   "outputs": [
    {
     "data": {
      "text/plain": [
       "array([[ 1,  2,  3],\n",
       "       [ 4,  5,  6],\n",
       "       [ 7,  8,  9],\n",
       "       [ 2,  4,  6],\n",
       "       [ 8, 10, 12],\n",
       "       [14, 16, 18]])"
      ]
     },
     "execution_count": 347,
     "metadata": {},
     "output_type": "execute_result"
    }
   ],
   "source": [
    "np.row_stack((a,b))"
   ]
  },
  {
   "cell_type": "code",
   "execution_count": 348,
   "id": "bff17312-3d23-4713-a24f-abd478598e5a",
   "metadata": {},
   "outputs": [
    {
     "data": {
      "text/plain": [
       "array([[ 1,  2,  3],\n",
       "       [ 4,  5,  6],\n",
       "       [ 7,  8,  9],\n",
       "       [ 2,  4,  6],\n",
       "       [ 8, 10, 12],\n",
       "       [14, 16, 18]])"
      ]
     },
     "execution_count": 348,
     "metadata": {},
     "output_type": "execute_result"
    }
   ],
   "source": [
    "np.concatenate((a,b), axis = 0)"
   ]
  },
  {
   "cell_type": "markdown",
   "id": "73cc3ad0-c662-4333-b086-8b83404e1123",
   "metadata": {},
   "source": [
    "### depth stack"
   ]
  },
  {
   "cell_type": "code",
   "execution_count": 349,
   "id": "1d9eb3a5-c771-41c7-a601-926f2875b9f3",
   "metadata": {},
   "outputs": [
    {
     "data": {
      "text/plain": [
       "array([[[ 1,  2],\n",
       "        [ 2,  4],\n",
       "        [ 3,  6]],\n",
       "\n",
       "       [[ 4,  8],\n",
       "        [ 5, 10],\n",
       "        [ 6, 12]],\n",
       "\n",
       "       [[ 7, 14],\n",
       "        [ 8, 16],\n",
       "        [ 9, 18]]])"
      ]
     },
     "execution_count": 349,
     "metadata": {},
     "output_type": "execute_result"
    }
   ],
   "source": [
    "np.dstack((a,b))"
   ]
  },
  {
   "cell_type": "code",
   "execution_count": null,
   "id": "0272797c-3b2e-4d3c-9195-f3cdca5f6304",
   "metadata": {},
   "outputs": [],
   "source": []
  }
 ],
 "metadata": {
  "kernelspec": {
   "display_name": "Python 3 (ipykernel)",
   "language": "python",
   "name": "python3"
  },
  "language_info": {
   "codemirror_mode": {
    "name": "ipython",
    "version": 3
   },
   "file_extension": ".py",
   "mimetype": "text/x-python",
   "name": "python",
   "nbconvert_exporter": "python",
   "pygments_lexer": "ipython3",
   "version": "3.12.7"
  }
 },
 "nbformat": 4,
 "nbformat_minor": 5
}
